{
 "cells": [
  {
   "cell_type": "markdown",
   "metadata": {},
   "source": [
    "Com o código abaixo geramos a matriz confusão. O csv está dívidido em [Round,Id do cliente, situação real do cliente que seria se ele é atacante ou não e a previsão do modelo classificador]\n",
    "\n",
    "ferramentas\\matriz_confusao.py"
   ]
  },
  {
   "cell_type": "markdown",
   "metadata": {},
   "source": [
    "Caminho dos dados:\n",
    "\n",
    "TESTES\\IID\\LOG_ACERTOS\n",
    "TESTES\\NIID\\LOG_ACERTOS"
   ]
  },
  {
   "cell_type": "markdown",
   "metadata": {},
   "source": [
    "Aqui geramos os gráficos de Accuracy e loss:\n",
    "ferramentas\\Visualizacao_em_grupo.py\n",
    "\n",
    "o Caminho dos dados é esse:\n",
    "TESTES\\IID\\LOG_EVALUATE\n",
    "TESTES\\NIID\\LOG_EVALUATE\n",
    "\n",
    "a estrutura dos dados é a seguinte:\n",
    "round, id do cliente, accuracy e loss"
   ]
  },
  {
   "cell_type": "markdown",
   "metadata": {},
   "source": [
    "Esse código mede a similaridade do cosseno dos clientes que foram classificados erroneamente, ou seja, quando o classificador errou:\n",
    "ferramentas\\mede_similaridade.py\n",
    "\n",
    "os dados estão nesse caminho:\n",
    "TESTES\\IID\\GRADIENTES\n",
    "TESTES\\NIID\\GRADIENTES\n",
    "\n",
    "São arquivos numpy que contêm os gradientes que serão analisados. Este código está demorando muito a ser execultado, mas funciona. Estou execultando ele na dl.\n",
    "\n",
    "Os resultados são parecidos com isso:\n",
    "Captura de tela 2024-03-22 153829.png"
   ]
  },
  {
   "cell_type": "markdown",
   "metadata": {},
   "source": [
    "F1 score e demais métricas do modelo classificador:\n",
    "Captura de tela 2024-03-23 225406.png\n",
    "\n",
    "\n",
    "Primeiras métricas se referem ao modelo que classifica as cnn's"
   ]
  },
  {
   "cell_type": "markdown",
   "metadata": {},
   "source": [
    "Basicamente é isso, qualquer dúvida pode me chamar!"
   ]
  }
 ],
 "metadata": {
  "language_info": {
   "name": "python"
  }
 },
 "nbformat": 4,
 "nbformat_minor": 2
}
