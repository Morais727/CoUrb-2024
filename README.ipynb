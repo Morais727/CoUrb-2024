{
 "cells": [
  {
   "cell_type": "markdown",
   "metadata": {},
   "source": [
    "O código abaixo gera os gráficos de detribuição dos dados non-iid"
   ]
  },
  {
   "cell_type": "markdown",
   "metadata": {},
   "source": [
    "ferramentas/gera_grafico_niid.py"
   ]
  }
 ],
 "metadata": {
  "language_info": {
   "name": "python"
  }
 },
 "nbformat": 4,
 "nbformat_minor": 2
}
